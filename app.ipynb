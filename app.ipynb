{
 "cells": [
  {
   "cell_type": "code",
   "execution_count": 1,
   "id": "552f1a1b-51df-4b56-b6bf-053db012ed5b",
   "metadata": {
    "editable": true,
    "slideshow": {
     "slide_type": ""
    },
    "tags": []
   },
   "outputs": [],
   "source": [
    "import tensorflow as tf\n",
    "import numpy as np\n",
    "import streamlit as st\n",
    "import librosa\n",
    "import librosa.display\n",
    "import matplotlib.pyplot as plt\n",
    "import soundfile as sf\n",
    "import io"
   ]
  },
  {
   "cell_type": "code",
   "execution_count": 2,
   "id": "1745ea5f-8311-4b27-bc38-3f0abc816eb0",
   "metadata": {},
   "outputs": [],
   "source": [
    "def process_audio(uploaded_file):\n",
    "    audio, sr = librosa.load(uploaded_file, sr=None)\n",
    "    return audio, sr\n",
    "\n",
    "# Function to plot the Mel spectrogram\n",
    "def plot_melspectrogram(audio, sr):\n",
    "    mel_spec = librosa.feature.melspectrogram(y=audio, sr=sr)\n",
    "    mel_spec_db = librosa.amplitude_to_db(mel_spec, ref=np.max)\n",
    "\n",
    "    # Plot the Mel spectrogram\n",
    "    librosa.display.specshow(mel_spec_db, sr=sr, x_axis='time', y_axis='mel')\n",
    "    plt.colorbar(format='%+2.0f dB')\n",
    "    st.pyplot(plt)\n",
    "\n",
    "# Function to preprocess audio and predict\n",
    "def predict_audio(model, audio, sr):\n",
    "    # Convert audio to Mel spectrogram\n",
    "    mel_spec = librosa.feature.melspectrogram(y=audio, sr=sr)\n",
    "    mel_spec_db = librosa.amplitude_to_db(mel_spec, ref=np.max)\n",
    "\n",
    "    # Resize and add extra dimensions for the model input\n",
    "    mel_spec_db = np.expand_dims(mel_spec_db, axis=-1)  # Add channel dimension\n",
    "    mel_spec_db = np.expand_dims(mel_spec_db, axis=0)   # Add batch dimension\n",
    "\n",
    "    # Predict using the model\n",
    "    prediction = model.predict(mel_spec_db)\n",
    "    predicted_class = np.argmax(prediction, axis=1)\n",
    "\n",
    "    # Map predicted class to label\n",
    "    labels = [\"healthy\", \"covid\"]  # Adjust labels based on your model's classes\n",
    "    predicted_label = labels[predicted_class[0]]\n",
    "\n",
    "    return predicted_label\n"
   ]
  },
  {
   "cell_type": "code",
   "execution_count": 3,
   "id": "602cfafb-79ee-448e-a843-db124f48f64c",
   "metadata": {},
   "outputs": [
    {
     "name": "stderr",
     "output_type": "stream",
     "text": [
      "2024-11-06 13:42:34.698 \n",
      "  \u001b[33m\u001b[1mWarning:\u001b[0m to view this Streamlit app on a browser, run it with the following\n",
      "  command:\n",
      "\n",
      "    streamlit run C:\\Users\\Airpo\\AppData\\Roaming\\Python\\Python312\\site-packages\\ipykernel_launcher.py [ARGUMENTS]\n"
     ]
    }
   ],
   "source": [
    "def app():\n",
    "    st.title(\"Cough Covid-19 Check\")\n",
    "\n",
    "    # Load the model once at the start\n",
    "    model = tf.keras.models.load_model('best_model.keras')\n",
    "\n",
    "    # Add a file uploader for the audio file\n",
    "    uploaded_file = st.file_uploader(\"Upload a Cough audio file\", type=[\"wav\", \"mp3\"])\n",
    "    col1, col2 = st.columns(2)\n",
    "\n",
    "    if uploaded_file is not None:\n",
    "        with col1:\n",
    "            # Process the uploaded audio file\n",
    "            audio, sr = process_audio(uploaded_file)\n",
    "\n",
    "            # Display the Mel spectrogram\n",
    "            st.subheader(\"Mel Spectrogram\")\n",
    "            plot_melspectrogram(audio, sr)\n",
    "\n",
    "        with col2:\n",
    "            st.subheader(\"Classify\")\n",
    "\n",
    "            # Predict the class of the uploaded audio\n",
    "            predicted_label = predict_audio(model, audio, sr)\n",
    "\n",
    "            # Display the predicted label\n",
    "            st.write(f\"Prediction: {predicted_label}\")\n",
    "\n",
    "# Run the Streamlit app\n",
    "if __name__ == \"__main__\":\n",
    "    app()"
   ]
  },
  {
   "cell_type": "code",
   "execution_count": null,
   "id": "4a9f2953-f560-4e6c-a1fe-21ab1ed09c36",
   "metadata": {},
   "outputs": [],
   "source": []
  }
 ],
 "metadata": {
  "kernelspec": {
   "display_name": "base",
   "language": "python",
   "name": "python3"
  },
  "language_info": {
   "codemirror_mode": {
    "name": "ipython",
    "version": 3
   },
   "file_extension": ".py",
   "mimetype": "text/x-python",
   "name": "python",
   "nbconvert_exporter": "python",
   "pygments_lexer": "ipython3",
   "version": "3.12.4"
  }
 },
 "nbformat": 4,
 "nbformat_minor": 5
}
